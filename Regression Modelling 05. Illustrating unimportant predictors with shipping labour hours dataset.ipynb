{
 "cells": [
  {
   "cell_type": "markdown",
   "metadata": {},
   "source": [
    "# Regression Modelling 5\n",
    "## Illustrating unimportant predictors with shipping labour hours dataset"
   ]
  },
  {
   "cell_type": "code",
   "execution_count": 1,
   "metadata": {},
   "outputs": [
    {
     "name": "stderr",
     "output_type": "stream",
     "text": [
      "Updating HTML index of packages in '.Library'\n",
      "Making 'packages.html' ... done\n",
      "Loading required package: tidyverse\n",
      "Warning message:\n",
      "“‘timedatectl’ indicates the non-existent timezone name ‘n/a’”Warning message:\n",
      "“Your system is mis-configured: ‘/etc/localtime’ is not a symlink”Warning message:\n",
      "“It is strongly recommended to set envionment variable TZ to ‘Etc/UCT’ (or equivalent)”── Attaching packages ─────────────────────────────────────── tidyverse 1.3.1 ──\n",
      "✔ ggplot2 3.3.3     ✔ purrr   0.3.4\n",
      "✔ tibble  3.1.0     ✔ dplyr   1.0.5\n",
      "✔ tidyr   1.1.3     ✔ stringr 1.4.0\n",
      "✔ readr   2.0.2     ✔ forcats 0.5.1\n",
      "── Conflicts ────────────────────────────────────────── tidyverse_conflicts() ──\n",
      "✖ dplyr::filter() masks stats::filter()\n",
      "✖ dplyr::lag()    masks stats::lag()\n"
     ]
    }
   ],
   "source": [
    "install.packages(\"tidyverse\")\n",
    "require(tidyverse)\n",
    "\n",
    "ship_df <- read.table(url(\"http://jupyter-regressions.s3.eu-west-1.amazonaws.com/shipdept.csv\"), \n",
    "                       sep=\",\", header = T, stringsAsFactors = F)"
   ]
  },
  {
   "cell_type": "code",
   "execution_count": 3,
   "metadata": {},
   "outputs": [
    {
     "data": {
      "text/html": [
       "<table>\n",
       "<thead><tr><th scope=col>Lab</th><th scope=col>Tws</th><th scope=col>Pst</th><th scope=col>Asw</th><th scope=col>Num</th></tr></thead>\n",
       "<tbody>\n",
       "\t<tr><td>100 </td><td>5.1 </td><td>0.90</td><td>20  </td><td>1   </td></tr>\n",
       "\t<tr><td> 85 </td><td>3.8 </td><td>0.99</td><td>22  </td><td>2   </td></tr>\n",
       "\t<tr><td>108 </td><td>5.3 </td><td>0.58</td><td>19  </td><td>3   </td></tr>\n",
       "\t<tr><td>116 </td><td>7.5 </td><td>0.16</td><td>15  </td><td>4   </td></tr>\n",
       "\t<tr><td> 92 </td><td>4.5 </td><td>0.54</td><td>20  </td><td>5   </td></tr>\n",
       "\t<tr><td> 63 </td><td>3.3 </td><td>0.42</td><td>26  </td><td>6   </td></tr>\n",
       "</tbody>\n",
       "</table>\n"
      ],
      "text/latex": [
       "\\begin{tabular}{r|lllll}\n",
       " Lab & Tws & Pst & Asw & Num\\\\\n",
       "\\hline\n",
       "\t 100  & 5.1  & 0.90 & 20   & 1   \\\\\n",
       "\t  85  & 3.8  & 0.99 & 22   & 2   \\\\\n",
       "\t 108  & 5.3  & 0.58 & 19   & 3   \\\\\n",
       "\t 116  & 7.5  & 0.16 & 15   & 4   \\\\\n",
       "\t  92  & 4.5  & 0.54 & 20   & 5   \\\\\n",
       "\t  63  & 3.3  & 0.42 & 26   & 6   \\\\\n",
       "\\end{tabular}\n"
      ],
      "text/markdown": [
       "\n",
       "| Lab | Tws | Pst | Asw | Num |\n",
       "|---|---|---|---|---|\n",
       "| 100  | 5.1  | 0.90 | 20   | 1    |\n",
       "|  85  | 3.8  | 0.99 | 22   | 2    |\n",
       "| 108  | 5.3  | 0.58 | 19   | 3    |\n",
       "| 116  | 7.5  | 0.16 | 15   | 4    |\n",
       "|  92  | 4.5  | 0.54 | 20   | 5    |\n",
       "|  63  | 3.3  | 0.42 | 26   | 6    |\n",
       "\n"
      ],
      "text/plain": [
       "  Lab Tws Pst  Asw Num\n",
       "1 100 5.1 0.90 20  1  \n",
       "2  85 3.8 0.99 22  2  \n",
       "3 108 5.3 0.58 19  3  \n",
       "4 116 7.5 0.16 15  4  \n",
       "5  92 4.5 0.54 20  5  \n",
       "6  63 3.3 0.42 26  6  "
      ]
     },
     "metadata": {},
     "output_type": "display_data"
    }
   ],
   "source": [
    "head(ship_df)"
   ]
  },
  {
   "cell_type": "code",
   "execution_count": 4,
   "metadata": {},
   "outputs": [
    {
     "data": {
      "text/plain": [
       "\n",
       "Call:\n",
       "lm(formula = Lab ~ Tws + Pst + Asw + Num, data = ship_df)\n",
       "\n",
       "Residuals:\n",
       "     Min       1Q   Median       3Q      Max \n",
       "-18.1571  -4.4245   0.3047   5.1815  12.6797 \n",
       "\n",
       "Coefficients:\n",
       "            Estimate Std. Error t value Pr(>|t|)   \n",
       "(Intercept)  95.4150    30.0358   3.177  0.00626 **\n",
       "Tws           6.0739     2.6625   2.281  0.03755 * \n",
       "Pst           8.4347     8.8702   0.951  0.35673   \n",
       "Asw          -1.7460     0.7602  -2.297  0.03645 * \n",
       "Num          -0.1245     0.3799  -0.328  0.74768   \n",
       "---\n",
       "Signif. codes:  0 ‘***’ 0.001 ‘**’ 0.01 ‘*’ 0.05 ‘.’ 0.1 ‘ ’ 1\n",
       "\n",
       "Residual standard error: 9.103 on 15 degrees of freedom\n",
       "Multiple R-squared:  0.8196,\tAdjusted R-squared:  0.7715 \n",
       "F-statistic: 17.03 on 4 and 15 DF,  p-value: 1.889e-05\n"
      ]
     },
     "metadata": {},
     "output_type": "display_data"
    }
   ],
   "source": [
    "lmLabMulti <- lm(Lab~Tws + Pst + Asw + Num, ship_df)\n",
    "summary(lmLabMulti) "
   ]
  },
  {
   "cell_type": "markdown",
   "metadata": {},
   "source": [
    "## 90% Confidence Interval for 4 term model"
   ]
  },
  {
   "cell_type": "code",
   "execution_count": 5,
   "metadata": {},
   "outputs": [
    {
     "name": "stdout",
     "output_type": "stream",
     "text": [
      "90% CI:( 1.414525 , 10.73327 )"
     ]
    }
   ],
   "source": [
    "# b1+-t-percentile(SEb1)\n",
    "b1 <- 6.0739\n",
    "t <- 1.75\n",
    "se <- 2.6625\n",
    "cat('90% CI:(', b1-t*(se), ',', b1+t*(se), ')')"
   ]
  },
  {
   "cell_type": "code",
   "execution_count": 6,
   "metadata": {},
   "outputs": [
    {
     "data": {
      "text/html": [
       "<table>\n",
       "<thead><tr><th></th><th scope=col>5 %</th><th scope=col>95 %</th></tr></thead>\n",
       "<tbody>\n",
       "\t<tr><th scope=row>Tws</th><td>1.4065  </td><td>10.74133</td></tr>\n",
       "</tbody>\n",
       "</table>\n"
      ],
      "text/latex": [
       "\\begin{tabular}{r|ll}\n",
       "  & 5 \\% & 95 \\%\\\\\n",
       "\\hline\n",
       "\tTws & 1.4065   & 10.74133\\\\\n",
       "\\end{tabular}\n"
      ],
      "text/markdown": [
       "\n",
       "| <!--/--> | 5 % | 95 % |\n",
       "|---|---|---|\n",
       "| Tws | 1.4065   | 10.74133 |\n",
       "\n"
      ],
      "text/plain": [
       "    5 %    95 %    \n",
       "Tws 1.4065 10.74133"
      ]
     },
     "metadata": {},
     "output_type": "display_data"
    }
   ],
   "source": [
    "confint(lmLabMulti, 'Tws', level=0.90)"
   ]
  },
  {
   "cell_type": "markdown",
   "metadata": {},
   "source": [
    "## 90% Confidence Interval for 2 term model"
   ]
  },
  {
   "cell_type": "code",
   "execution_count": 7,
   "metadata": {},
   "outputs": [
    {
     "data": {
      "text/plain": [
       "\n",
       "Call:\n",
       "lm(formula = Lab ~ Tws + Asw, data = ship_df)\n",
       "\n",
       "Residuals:\n",
       "    Min      1Q  Median      3Q     Max \n",
       "-18.092  -4.248  -1.222   4.696  15.431 \n",
       "\n",
       "Coefficients:\n",
       "            Estimate Std. Error t value Pr(>|t|)    \n",
       "(Intercept) 110.4311    24.8556   4.443 0.000357 ***\n",
       "Tws           5.0007     2.2607   2.212 0.040948 *  \n",
       "Asw          -2.0122     0.6675  -3.014 0.007810 ** \n",
       "---\n",
       "Signif. codes:  0 ‘***’ 0.001 ‘**’ 0.01 ‘*’ 0.05 ‘.’ 0.1 ‘ ’ 1\n",
       "\n",
       "Residual standard error: 8.815 on 17 degrees of freedom\n",
       "Multiple R-squared:  0.8082,\tAdjusted R-squared:  0.7857 \n",
       "F-statistic: 35.83 on 2 and 17 DF,  p-value: 8.008e-07\n"
      ]
     },
     "metadata": {},
     "output_type": "display_data"
    }
   ],
   "source": [
    "lmLabTwo <- lm(Lab~Tws + Asw, ship_df)\n",
    "summary(lmLabTwo) "
   ]
  },
  {
   "cell_type": "code",
   "execution_count": 8,
   "metadata": {},
   "outputs": [
    {
     "name": "stdout",
     "output_type": "stream",
     "text": [
      "90% CI:( 1.089689 , 8.911711 )"
     ]
    }
   ],
   "source": [
    "# b1+-t-percentile(SEb1)\n",
    "b1 <- 5.0007\n",
    "t <- 1.73\n",
    "se <- 2.2607\n",
    "cat('90% CI:(', b1-t*(se), ',', b1+t*(se), ')')"
   ]
  },
  {
   "cell_type": "code",
   "execution_count": 9,
   "metadata": {},
   "outputs": [
    {
     "data": {
      "text/html": [
       "<table>\n",
       "<thead><tr><th></th><th scope=col>5 %</th><th scope=col>95 %</th></tr></thead>\n",
       "<tbody>\n",
       "\t<tr><th scope=row>Tws</th><td>1.067906</td><td>8.933508</td></tr>\n",
       "</tbody>\n",
       "</table>\n"
      ],
      "text/latex": [
       "\\begin{tabular}{r|ll}\n",
       "  & 5 \\% & 95 \\%\\\\\n",
       "\\hline\n",
       "\tTws & 1.067906 & 8.933508\\\\\n",
       "\\end{tabular}\n"
      ],
      "text/markdown": [
       "\n",
       "| <!--/--> | 5 % | 95 % |\n",
       "|---|---|---|\n",
       "| Tws | 1.067906 | 8.933508 |\n",
       "\n"
      ],
      "text/plain": [
       "    5 %      95 %    \n",
       "Tws 1.067906 8.933508"
      ]
     },
     "metadata": {},
     "output_type": "display_data"
    }
   ],
   "source": [
    "confint(lmLabTwo, 'Tws', level=0.90)"
   ]
  },
  {
   "cell_type": "markdown",
   "metadata": {},
   "source": [
    "This interval is narrower (more precise) than the one in (a) because the two-predictor model is more accurate than the four-predictor model (which contains two unimportant predictors). These factors are also using up degrees of freedom which are leveraged in the second model."
   ]
  },
  {
   "cell_type": "code",
   "execution_count": 54,
   "metadata": {},
   "outputs": [
    {
     "name": "stdout",
     "output_type": "stream",
     "text": [
      "95% CI:( 96.25304 , 104.141 ) \n",
      "95% PI:( 84.52952 , 115.8645 )"
     ]
    }
   ],
   "source": [
    "predLmLabTwo <- predict(lmLabTwo, interval = \"confidence\")\n",
    "fortigyLmLabTwo = fortify(lmLabTwo)\n",
    "\n",
    "fortLabTwo <- cbind(fortigyLmLabTwo,predLmLabTwo)\n",
    "\n",
    "df <- 20-2\n",
    "y <- 110.431 + 5.001*(6) - 2.012*(20)\n",
    "s_yhat <- 2.293\n",
    "t_percentile <- 1.72 \n",
    "\n",
    "sp_yhat <- 9.109\n",
    "\n",
    "cat('95% CI:(',y-t_percentile*s_yhat,',', y+t_percentile*s_yhat,') \\n')\n",
    "cat('95% PI:(',y-t_percentile*sp_yhat,',', y+t_percentile*sp_yhat,')')"
   ]
  }
 ],
 "metadata": {
  "kernelspec": {
   "display_name": "R",
   "language": "R",
   "name": "ir"
  },
  "language_info": {
   "codemirror_mode": "r",
   "file_extension": ".r",
   "mimetype": "text/x-r-source",
   "name": "R",
   "pygments_lexer": "r",
   "version": "3.6.1"
  }
 },
 "nbformat": 4,
 "nbformat_minor": 4
}
