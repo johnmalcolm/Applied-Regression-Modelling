{
 "cells": [
  {
   "cell_type": "markdown",
   "metadata": {},
   "source": [
    "# Predict Box Office Success!\n",
    "## 3 MOVIES"
   ]
  },
  {
   "cell_type": "code",
   "execution_count": 72,
   "metadata": {},
   "outputs": [
    {
     "name": "stdout",
     "output_type": "stream",
     "text": [
      "\n",
      "The downloaded binary packages are in\n",
      "\t/var/folders/tz/875z4smn2sz0kndfn6lyfvf40000gn/T//Rtmp02DJQq/downloaded_packages\n"
     ]
    },
    {
     "name": "stderr",
     "output_type": "stream",
     "text": [
      "Loading required package: tidyverse\n",
      "\n",
      "── \u001b[1mAttaching packages\u001b[22m ─────────────────────────────────────── tidyverse 1.3.0 ──\n",
      "\n",
      "\u001b[32m✔\u001b[39m \u001b[34mggplot2\u001b[39m 3.3.0     \u001b[32m✔\u001b[39m \u001b[34mpurrr  \u001b[39m 0.3.4\n",
      "\u001b[32m✔\u001b[39m \u001b[34mtibble \u001b[39m 3.0.1     \u001b[32m✔\u001b[39m \u001b[34mdplyr  \u001b[39m 0.8.5\n",
      "\u001b[32m✔\u001b[39m \u001b[34mtidyr  \u001b[39m 1.0.2     \u001b[32m✔\u001b[39m \u001b[34mstringr\u001b[39m 1.4.0\n",
      "\u001b[32m✔\u001b[39m \u001b[34mreadr  \u001b[39m 1.3.1     \u001b[32m✔\u001b[39m \u001b[34mforcats\u001b[39m 0.5.0\n",
      "\n",
      "── \u001b[1mConflicts\u001b[22m ────────────────────────────────────────── tidyverse_conflicts() ──\n",
      "\u001b[31m✖\u001b[39m \u001b[34mdplyr\u001b[39m::\u001b[32mfilter()\u001b[39m masks \u001b[34mstats\u001b[39m::filter()\n",
      "\u001b[31m✖\u001b[39m \u001b[34mdplyr\u001b[39m::\u001b[32mlag()\u001b[39m    masks \u001b[34mstats\u001b[39m::lag()\n",
      "\n"
     ]
    }
   ],
   "source": [
    "install.packages(\"tidyverse\")\n",
    "require(tidyverse)\n",
    "\n",
    "movies_df <- read.table(\"/Users/jmanderson/statistics/02_intro-to-regression/ARM by Iain - Exercises/data/movies.csv\", \n",
    "                       sep=\",\", header = T, stringsAsFactors = F)"
   ]
  },
  {
   "cell_type": "code",
   "execution_count": 8,
   "metadata": {},
   "outputs": [
    {
     "data": {
      "text/html": [
       "<table>\n",
       "<caption>A data.frame: 6 × 8</caption>\n",
       "<thead>\n",
       "\t<tr><th></th><th scope=col>Movie</th><th scope=col>Box</th><th scope=col>Rate</th><th scope=col>User</th><th scope=col>Meta</th><th scope=col>Len</th><th scope=col>Win</th><th scope=col>Nom</th></tr>\n",
       "\t<tr><th></th><th scope=col>&lt;chr&gt;</th><th scope=col>&lt;dbl&gt;</th><th scope=col>&lt;dbl&gt;</th><th scope=col>&lt;dbl&gt;</th><th scope=col>&lt;int&gt;</th><th scope=col>&lt;int&gt;</th><th scope=col>&lt;int&gt;</th><th scope=col>&lt;int&gt;</th></tr>\n",
       "</thead>\n",
       "<tbody>\n",
       "\t<tr><th scope=row>1</th><td>Star Wars: Episode IV - A New Hope (1977)                    </td><td>460.9357</td><td>8.8</td><td>423.838</td><td>91</td><td>121</td><td>36</td><td>22</td></tr>\n",
       "\t<tr><th scope=row>2</th><td>Toy Story 3 (2010)                                           </td><td>414.9845</td><td>8.5</td><td>201.748</td><td>92</td><td>103</td><td>35</td><td>41</td></tr>\n",
       "\t<tr><th scope=row>3</th><td>Spider-Man 2 (2004)                                          </td><td>373.3779</td><td>7.5</td><td>191.179</td><td>83</td><td>127</td><td>15</td><td>39</td></tr>\n",
       "\t<tr><th scope=row>4</th><td>Finding Nemo (2003)                                          </td><td>339.7144</td><td>8.1</td><td>263.202</td><td>89</td><td>100</td><td>35</td><td>36</td></tr>\n",
       "\t<tr><th scope=row>5</th><td>The Lion King (1994)                                         </td><td>328.4230</td><td>8.3</td><td>233.977</td><td>83</td><td> 89</td><td>27</td><td>22</td></tr>\n",
       "\t<tr><th scope=row>6</th><td>Pirates of the Caribbean: The Curse of the Black Pearl (2003)</td><td>305.3887</td><td>8.0</td><td>355.801</td><td>63</td><td>143</td><td>28</td><td>74</td></tr>\n",
       "</tbody>\n",
       "</table>\n"
      ],
      "text/latex": [
       "A data.frame: 6 × 8\n",
       "\\begin{tabular}{r|llllllll}\n",
       "  & Movie & Box & Rate & User & Meta & Len & Win & Nom\\\\\n",
       "  & <chr> & <dbl> & <dbl> & <dbl> & <int> & <int> & <int> & <int>\\\\\n",
       "\\hline\n",
       "\t1 & Star Wars: Episode IV - A New Hope (1977)                     & 460.9357 & 8.8 & 423.838 & 91 & 121 & 36 & 22\\\\\n",
       "\t2 & Toy Story 3 (2010)                                            & 414.9845 & 8.5 & 201.748 & 92 & 103 & 35 & 41\\\\\n",
       "\t3 & Spider-Man 2 (2004)                                           & 373.3779 & 7.5 & 191.179 & 83 & 127 & 15 & 39\\\\\n",
       "\t4 & Finding Nemo (2003)                                           & 339.7144 & 8.1 & 263.202 & 89 & 100 & 35 & 36\\\\\n",
       "\t5 & The Lion King (1994)                                          & 328.4230 & 8.3 & 233.977 & 83 &  89 & 27 & 22\\\\\n",
       "\t6 & Pirates of the Caribbean: The Curse of the Black Pearl (2003) & 305.3887 & 8.0 & 355.801 & 63 & 143 & 28 & 74\\\\\n",
       "\\end{tabular}\n"
      ],
      "text/markdown": [
       "\n",
       "A data.frame: 6 × 8\n",
       "\n",
       "| <!--/--> | Movie &lt;chr&gt; | Box &lt;dbl&gt; | Rate &lt;dbl&gt; | User &lt;dbl&gt; | Meta &lt;int&gt; | Len &lt;int&gt; | Win &lt;int&gt; | Nom &lt;int&gt; |\n",
       "|---|---|---|---|---|---|---|---|---|\n",
       "| 1 | Star Wars: Episode IV - A New Hope (1977)                     | 460.9357 | 8.8 | 423.838 | 91 | 121 | 36 | 22 |\n",
       "| 2 | Toy Story 3 (2010)                                            | 414.9845 | 8.5 | 201.748 | 92 | 103 | 35 | 41 |\n",
       "| 3 | Spider-Man 2 (2004)                                           | 373.3779 | 7.5 | 191.179 | 83 | 127 | 15 | 39 |\n",
       "| 4 | Finding Nemo (2003)                                           | 339.7144 | 8.1 | 263.202 | 89 | 100 | 35 | 36 |\n",
       "| 5 | The Lion King (1994)                                          | 328.4230 | 8.3 | 233.977 | 83 |  89 | 27 | 22 |\n",
       "| 6 | Pirates of the Caribbean: The Curse of the Black Pearl (2003) | 305.3887 | 8.0 | 355.801 | 63 | 143 | 28 | 74 |\n",
       "\n"
      ],
      "text/plain": [
       "  Movie                                                         Box      Rate\n",
       "1 Star Wars: Episode IV - A New Hope (1977)                     460.9357 8.8 \n",
       "2 Toy Story 3 (2010)                                            414.9845 8.5 \n",
       "3 Spider-Man 2 (2004)                                           373.3779 7.5 \n",
       "4 Finding Nemo (2003)                                           339.7144 8.1 \n",
       "5 The Lion King (1994)                                          328.4230 8.3 \n",
       "6 Pirates of the Caribbean: The Curse of the Black Pearl (2003) 305.3887 8.0 \n",
       "  User    Meta Len Win Nom\n",
       "1 423.838 91   121 36  22 \n",
       "2 201.748 92   103 35  41 \n",
       "3 191.179 83   127 15  39 \n",
       "4 263.202 89   100 35  36 \n",
       "5 233.977 83    89 27  22 \n",
       "6 355.801 63   143 28  74 "
      ]
     },
     "metadata": {},
     "output_type": "display_data"
    }
   ],
   "source": [
    "head(movies_df)"
   ]
  },
  {
   "cell_type": "code",
   "execution_count": 28,
   "metadata": {
    "scrolled": true
   },
   "outputs": [
    {
     "data": {
      "text/plain": [
       "\n",
       "Call:\n",
       "lm(formula = Box ~ Rate + User + Meta, data = movies_df)\n",
       "\n",
       "Residuals:\n",
       "    Min      1Q  Median      3Q     Max \n",
       "-49.202 -22.749  -3.598   7.266  90.059 \n",
       "\n",
       "Coefficients:\n",
       "             Estimate Std. Error t value Pr(>|t|)   \n",
       "(Intercept) -169.0862    92.0925  -1.836  0.08055 . \n",
       "Rate          35.4962    18.9956   1.869  0.07569 . \n",
       "User           0.4328     0.1472   2.940  0.00783 **\n",
       "Meta           1.2462     0.8047   1.549  0.13640   \n",
       "---\n",
       "Signif. codes:  0 ‘***’ 0.001 ‘**’ 0.01 ‘*’ 0.05 ‘.’ 0.1 ‘ ’ 1\n",
       "\n",
       "Residual standard error: 39.53 on 21 degrees of freedom\n",
       "Multiple R-squared:  0.8841,\tAdjusted R-squared:  0.8675 \n",
       "F-statistic: 53.37 on 3 and 21 DF,  p-value: 5.35e-10\n"
      ]
     },
     "metadata": {},
     "output_type": "display_data"
    }
   ],
   "source": [
    "lmRateUserMeta <- lm(Box~Rate + User + Meta, movies_df)\n",
    "summary(lmRateUserMeta) "
   ]
  },
  {
   "cell_type": "code",
   "execution_count": 41,
   "metadata": {},
   "outputs": [],
   "source": [
    "regressionEquation <- function(rate, user, meta){\n",
    "    return (-169.0862+35.4962*rate+0.4328*user+1.2462*meta)\n",
    "}"
   ]
  },
  {
   "cell_type": "code",
   "execution_count": 42,
   "metadata": {},
   "outputs": [
    {
     "data": {
      "text/html": [
       "440.1216464"
      ],
      "text/latex": [
       "440.1216464"
      ],
      "text/markdown": [
       "440.1216464"
      ],
      "text/plain": [
       "[1] 440.1216"
      ]
     },
     "metadata": {},
     "output_type": "display_data"
    }
   ],
   "source": [
    "regressionEquation(8.8,423.838,91)"
   ]
  },
  {
   "cell_type": "code",
   "execution_count": 75,
   "metadata": {},
   "outputs": [
    {
     "data": {
      "text/html": [
       "<table>\n",
       "<caption>A data.frame: 6 × 8</caption>\n",
       "<thead>\n",
       "\t<tr><th scope=col>Movie</th><th scope=col>Box</th><th scope=col>Rate</th><th scope=col>User</th><th scope=col>Meta</th><th scope=col>Len</th><th scope=col>Win</th><th scope=col>Nom</th></tr>\n",
       "\t<tr><th scope=col>&lt;chr&gt;</th><th scope=col>&lt;dbl&gt;</th><th scope=col>&lt;dbl&gt;</th><th scope=col>&lt;dbl&gt;</th><th scope=col>&lt;int&gt;</th><th scope=col>&lt;int&gt;</th><th scope=col>&lt;int&gt;</th><th scope=col>&lt;int&gt;</th></tr>\n",
       "</thead>\n",
       "<tbody>\n",
       "\t<tr><td>Star Wars: Episode IV - A New Hope (1977)</td><td>460.9357</td><td>8.8</td><td>423.838</td><td>91</td><td>121</td><td>36</td><td>22</td></tr>\n",
       "\t<tr><td>Toy Story 3 (2010)                       </td><td>414.9845</td><td>8.5</td><td>201.748</td><td>92</td><td>103</td><td>35</td><td>41</td></tr>\n",
       "\t<tr><td>Finding Nemo (2003)                      </td><td>339.7144</td><td>8.1</td><td>263.202</td><td>89</td><td>100</td><td>35</td><td>36</td></tr>\n",
       "\t<tr><td>The Lion King (1994)                     </td><td>328.4230</td><td>8.3</td><td>233.977</td><td>83</td><td> 89</td><td>27</td><td>22</td></tr>\n",
       "\t<tr><td>Up (2009)                                </td><td>292.9796</td><td>8.3</td><td>222.884</td><td>88</td><td> 96</td><td>56</td><td>32</td></tr>\n",
       "\t<tr><td>Jaws (1975)                              </td><td>260.0000</td><td>8.2</td><td>190.092</td><td>79</td><td>124</td><td>12</td><td>13</td></tr>\n",
       "</tbody>\n",
       "</table>\n"
      ],
      "text/latex": [
       "A data.frame: 6 × 8\n",
       "\\begin{tabular}{llllllll}\n",
       " Movie & Box & Rate & User & Meta & Len & Win & Nom\\\\\n",
       " <chr> & <dbl> & <dbl> & <dbl> & <int> & <int> & <int> & <int>\\\\\n",
       "\\hline\n",
       "\t Star Wars: Episode IV - A New Hope (1977) & 460.9357 & 8.8 & 423.838 & 91 & 121 & 36 & 22\\\\\n",
       "\t Toy Story 3 (2010)                        & 414.9845 & 8.5 & 201.748 & 92 & 103 & 35 & 41\\\\\n",
       "\t Finding Nemo (2003)                       & 339.7144 & 8.1 & 263.202 & 89 & 100 & 35 & 36\\\\\n",
       "\t The Lion King (1994)                      & 328.4230 & 8.3 & 233.977 & 83 &  89 & 27 & 22\\\\\n",
       "\t Up (2009)                                 & 292.9796 & 8.3 & 222.884 & 88 &  96 & 56 & 32\\\\\n",
       "\t Jaws (1975)                               & 260.0000 & 8.2 & 190.092 & 79 & 124 & 12 & 13\\\\\n",
       "\\end{tabular}\n"
      ],
      "text/markdown": [
       "\n",
       "A data.frame: 6 × 8\n",
       "\n",
       "| Movie &lt;chr&gt; | Box &lt;dbl&gt; | Rate &lt;dbl&gt; | User &lt;dbl&gt; | Meta &lt;int&gt; | Len &lt;int&gt; | Win &lt;int&gt; | Nom &lt;int&gt; |\n",
       "|---|---|---|---|---|---|---|---|\n",
       "| Star Wars: Episode IV - A New Hope (1977) | 460.9357 | 8.8 | 423.838 | 91 | 121 | 36 | 22 |\n",
       "| Toy Story 3 (2010)                        | 414.9845 | 8.5 | 201.748 | 92 | 103 | 35 | 41 |\n",
       "| Finding Nemo (2003)                       | 339.7144 | 8.1 | 263.202 | 89 | 100 | 35 | 36 |\n",
       "| The Lion King (1994)                      | 328.4230 | 8.3 | 233.977 | 83 |  89 | 27 | 22 |\n",
       "| Up (2009)                                 | 292.9796 | 8.3 | 222.884 | 88 |  96 | 56 | 32 |\n",
       "| Jaws (1975)                               | 260.0000 | 8.2 | 190.092 | 79 | 124 | 12 | 13 |\n",
       "\n"
      ],
      "text/plain": [
       "  Movie                                     Box      Rate User    Meta Len Win\n",
       "1 Star Wars: Episode IV - A New Hope (1977) 460.9357 8.8  423.838 91   121 36 \n",
       "2 Toy Story 3 (2010)                        414.9845 8.5  201.748 92   103 35 \n",
       "3 Finding Nemo (2003)                       339.7144 8.1  263.202 89   100 35 \n",
       "4 The Lion King (1994)                      328.4230 8.3  233.977 83    89 27 \n",
       "5 Up (2009)                                 292.9796 8.3  222.884 88    96 56 \n",
       "6 Jaws (1975)                               260.0000 8.2  190.092 79   124 12 \n",
       "  Nom\n",
       "1 22 \n",
       "2 41 \n",
       "3 36 \n",
       "4 22 \n",
       "5 32 \n",
       "6 13 "
      ]
     },
     "metadata": {},
     "output_type": "display_data"
    }
   ],
   "source": [
    "filter(movies_df, Rate>8, Rate<9)"
   ]
  },
  {
   "cell_type": "markdown",
   "metadata": {},
   "source": [
    "We expect Box office recipets to increase by 35.5 Million dollars for each increase in average user rating (out of 10) , holding all other variables constant. This expectation is only held for Box office receipts between 100 and 460 Million dollars and Ratings between 5.3 and 8.8."
   ]
  },
  {
   "cell_type": "code",
   "execution_count": 90,
   "metadata": {
    "scrolled": true
   },
   "outputs": [
    {
     "data": {
      "text/plain": [
       "    Movie                Box             Rate            User       \n",
       " Length:25          Min.   :100.3   Min.   :5.300   Min.   : 25.51  \n",
       " Class :character   1st Qu.:118.2   1st Qu.:6.300   1st Qu.: 57.84  \n",
       " Mode  :character   Median :215.4   Median :7.100   Median :125.89  \n",
       "                    Mean   :220.3   Mean   :7.024   Mean   :141.93  \n",
       "                    3rd Qu.:293.0   3rd Qu.:8.000   3rd Qu.:191.18  \n",
       "                    Max.   :460.9   Max.   :8.800   Max.   :423.84  \n",
       "      Meta            Len             Win             Nom       \n",
       " Min.   :25.00   Min.   : 89.0   Min.   : 1.00   Min.   : 1.00  \n",
       " 1st Qu.:45.00   1st Qu.: 98.0   1st Qu.: 3.00   1st Qu.: 7.00  \n",
       " Median :64.00   Median :115.0   Median : 9.00   Median :15.00  \n",
       " Mean   :63.08   Mean   :114.7   Mean   :13.64   Mean   :19.56  \n",
       " 3rd Qu.:81.00   3rd Qu.:126.0   3rd Qu.:18.00   3rd Qu.:28.00  \n",
       " Max.   :92.00   Max.   :157.0   Max.   :56.00   Max.   :74.00  "
      ]
     },
     "metadata": {},
     "output_type": "display_data"
    }
   ],
   "source": [
    "summary(movies_df)"
   ]
  },
  {
   "cell_type": "markdown",
   "metadata": {},
   "source": [
    "# 3.3 MOVIES - All Term Model"
   ]
  },
  {
   "cell_type": "code",
   "execution_count": 83,
   "metadata": {},
   "outputs": [
    {
     "data": {
      "text/plain": [
       "\n",
       "Call:\n",
       "lm(formula = Box ~ Rate + User + Meta + Len + Win + Nom, data = movies_df)\n",
       "\n",
       "Residuals:\n",
       "    Min      1Q  Median      3Q     Max \n",
       "-53.161 -22.013  -3.864   9.517  84.574 \n",
       "\n",
       "Coefficients:\n",
       "              Estimate Std. Error t value Pr(>|t|)  \n",
       "(Intercept) -172.28110  106.51894  -1.617   0.1232  \n",
       "Rate          35.34769   22.44744   1.575   0.1327  \n",
       "User           0.38894    0.19304   2.015   0.0591 .\n",
       "Meta           1.25615    0.89110   1.410   0.1757  \n",
       "Len            0.02473    0.54429   0.045   0.9643  \n",
       "Win           -0.02080    1.33384  -0.016   0.9877  \n",
       "Nom            0.37261    0.87286   0.427   0.6745  \n",
       "---\n",
       "Signif. codes:  0 ‘***’ 0.001 ‘**’ 0.01 ‘*’ 0.05 ‘.’ 0.1 ‘ ’ 1\n",
       "\n",
       "Residual standard error: 42.45 on 18 degrees of freedom\n",
       "Multiple R-squared:  0.8854,\tAdjusted R-squared:  0.8472 \n",
       "F-statistic: 23.18 on 6 and 18 DF,  p-value: 1.505e-07\n"
      ]
     },
     "metadata": {},
     "output_type": "display_data"
    }
   ],
   "source": [
    "lmBoxMulti <- lm(Box~Rate + User + Meta + Len + Win + Nom , movies_df)\n",
    "summary(lmBoxMulti) "
   ]
  },
  {
   "cell_type": "markdown",
   "metadata": {},
   "source": [
    "## Nested Model Test\n",
    "\\begin{equation*}\n",
    "\\frac{RSS_R-RSS_C/(k-r)}{RSS_C/n-k-1}\n",
    "\\end{equation*}\n",
    "\n",
    "Suppose that the full k-predictor model, also known as the complete model, has an RSS value equal to RSS$_{C}$.\n",
    "\n",
    "Consider removing a subset of the predictor variables that we suspect provides little in- formation about the response, Y, beyond the information provided by the other predictors. Removing this subset leads to a reduced model with r predictors (i.e., k—r predictors are removed).\n",
    "\n",
    "Since the reduced model is nested in the complete model (i.e., it contains a subset of the complete model predictors), it will have an RSS value, say, RSS$_{R}$, that is greater than or equal to RSS$_{C}$; see page 95 for a geometrical argument for why this is so.\n",
    "\n",
    "Intuitively, if the difference between R S S R and RSSc is small, then the explanatory power of the two models is similar, and we would prefer the simpler reduced model since the complete model seems to be overfitting the sample data. On the other hand, if the difference between RSSR and RSSc is large, we would prefer the complete model since the k—r extra predictors in the complete model do appear to provide useful information about the response, Y, beyond the information provided by the rreduced model predictors.\n",
    "\n",
    "To turn this intuition into a formal hypothesis test, we need to find a test statistic propor- tional to RSSR—RSSc, whose sampling distribution we know under a null hypothesis that states the reduced and complete models are equivalent in the population. The F-distribution we introduced in Section 3.3.3 serves this purpose in the following nested model test.\n",
    "\n",
    "### First lets calculate the residual sum of squares for the complete model and the nested model."
   ]
  },
  {
   "cell_type": "code",
   "execution_count": 152,
   "metadata": {},
   "outputs": [
    {
     "name": "stdout",
     "output_type": "stream",
     "text": [
      "RSS for complete model:  32435.31"
     ]
    }
   ],
   "source": [
    "rss_c <- deviance(lmBoxMulti)\n",
    "cat(\"RSS for complete model: \", rss_c)"
   ]
  },
  {
   "cell_type": "code",
   "execution_count": 358,
   "metadata": {},
   "outputs": [
    {
     "name": "stdout",
     "output_type": "stream",
     "text": [
      "RSS for nested model:  32822.96"
     ]
    },
    {
     "data": {
      "text/html": [
       "181.171087800669"
      ],
      "text/latex": [
       "181.171087800669"
      ],
      "text/markdown": [
       "181.171087800669"
      ],
      "text/plain": [
       "[1] 181.1711"
      ]
     },
     "metadata": {},
     "output_type": "display_data"
    }
   ],
   "source": [
    "rss_r <- deviance(lmRateUserMeta)\n",
    "cat(\"RSS for nested model: \", rss_r)"
   ]
  },
  {
   "cell_type": "code",
   "execution_count": 347,
   "metadata": {},
   "outputs": [],
   "source": [
    "# Nested Model Formula\n",
    "numerator <- (rss_r - rss_c)/(6-3)\n",
    "denominator <- rss_c/(25-6-1)\n",
    "f_stat <- numerator/denominator\n",
    "\n",
    "# Paramaters for Critical F\n",
    "n_df <- 3 # same as r\n",
    "d_df <- 18 # same as n-k-1\n",
    "f_crit <- 3.160"
   ]
  },
  {
   "cell_type": "code",
   "execution_count": 348,
   "metadata": {},
   "outputs": [
    {
     "name": "stdout",
     "output_type": "stream",
     "text": [
      "Calculated F-Statistic:  0.0717099 . Critical F Value:  3.16"
     ]
    }
   ],
   "source": [
    "cat(\"Calculated F-Statistic: \", f_stat,\". Critical F Value: \", f_crit)"
   ]
  },
  {
   "cell_type": "markdown",
   "metadata": {},
   "source": [
    "### Therefore we fail to reject the Nested Model F-Test that: b4=b5=b6=0\n",
    "## We can confirm our RSS values using the values in the ANOVA table below"
   ]
  },
  {
   "cell_type": "code",
   "execution_count": 357,
   "metadata": {},
   "outputs": [
    {
     "data": {
      "text/html": [
       "<table>\n",
       "<caption>A anova: 7 × 5</caption>\n",
       "<thead>\n",
       "\t<tr><th></th><th scope=col>Df</th><th scope=col>Sum Sq</th><th scope=col>Mean Sq</th><th scope=col>F value</th><th scope=col>Pr(&gt;F)</th></tr>\n",
       "\t<tr><th></th><th scope=col>&lt;int&gt;</th><th scope=col>&lt;dbl&gt;</th><th scope=col>&lt;dbl&gt;</th><th scope=col>&lt;dbl&gt;</th><th scope=col>&lt;dbl&gt;</th></tr>\n",
       "</thead>\n",
       "<tbody>\n",
       "\t<tr><th scope=row>Rate</th><td> 1</td><td>232048.12930</td><td>232048.12930</td><td>128.77529556</td><td>1.233877e-09</td></tr>\n",
       "\t<tr><th scope=row>User</th><td> 1</td><td> 14477.47559</td><td> 14477.47559</td><td>  8.03428670</td><td>1.099249e-02</td></tr>\n",
       "\t<tr><th scope=row>Meta</th><td> 1</td><td>  3748.57391</td><td>  3748.57391</td><td>  2.08027410</td><td>1.663884e-01</td></tr>\n",
       "\t<tr><th scope=row>Len</th><td> 1</td><td>    38.03622</td><td>    38.03622</td><td>  0.02110823</td><td>8.860990e-01</td></tr>\n",
       "\t<tr><th scope=row>Win</th><td> 1</td><td>    21.24289</td><td>    21.24289</td><td>  0.01178876</td><td>9.147400e-01</td></tr>\n",
       "\t<tr><th scope=row>Nom</th><td> 1</td><td>   328.37631</td><td>   328.37631</td><td>  0.18223270</td><td>6.745238e-01</td></tr>\n",
       "\t<tr><th scope=row>Residuals</th><td>18</td><td> 32435.30764</td><td>  1801.96154</td><td>          NA</td><td>          NA</td></tr>\n",
       "</tbody>\n",
       "</table>\n"
      ],
      "text/latex": [
       "A anova: 7 × 5\n",
       "\\begin{tabular}{r|lllll}\n",
       "  & Df & Sum Sq & Mean Sq & F value & Pr(>F)\\\\\n",
       "  & <int> & <dbl> & <dbl> & <dbl> & <dbl>\\\\\n",
       "\\hline\n",
       "\tRate &  1 & 232048.12930 & 232048.12930 & 128.77529556 & 1.233877e-09\\\\\n",
       "\tUser &  1 &  14477.47559 &  14477.47559 &   8.03428670 & 1.099249e-02\\\\\n",
       "\tMeta &  1 &   3748.57391 &   3748.57391 &   2.08027410 & 1.663884e-01\\\\\n",
       "\tLen &  1 &     38.03622 &     38.03622 &   0.02110823 & 8.860990e-01\\\\\n",
       "\tWin &  1 &     21.24289 &     21.24289 &   0.01178876 & 9.147400e-01\\\\\n",
       "\tNom &  1 &    328.37631 &    328.37631 &   0.18223270 & 6.745238e-01\\\\\n",
       "\tResiduals & 18 &  32435.30764 &   1801.96154 &           NA &           NA\\\\\n",
       "\\end{tabular}\n"
      ],
      "text/markdown": [
       "\n",
       "A anova: 7 × 5\n",
       "\n",
       "| <!--/--> | Df &lt;int&gt; | Sum Sq &lt;dbl&gt; | Mean Sq &lt;dbl&gt; | F value &lt;dbl&gt; | Pr(&gt;F) &lt;dbl&gt; |\n",
       "|---|---|---|---|---|---|\n",
       "| Rate |  1 | 232048.12930 | 232048.12930 | 128.77529556 | 1.233877e-09 |\n",
       "| User |  1 |  14477.47559 |  14477.47559 |   8.03428670 | 1.099249e-02 |\n",
       "| Meta |  1 |   3748.57391 |   3748.57391 |   2.08027410 | 1.663884e-01 |\n",
       "| Len |  1 |     38.03622 |     38.03622 |   0.02110823 | 8.860990e-01 |\n",
       "| Win |  1 |     21.24289 |     21.24289 |   0.01178876 | 9.147400e-01 |\n",
       "| Nom |  1 |    328.37631 |    328.37631 |   0.18223270 | 6.745238e-01 |\n",
       "| Residuals | 18 |  32435.30764 |   1801.96154 |           NA |           NA |\n",
       "\n"
      ],
      "text/plain": [
       "          Df Sum Sq       Mean Sq      F value      Pr(>F)      \n",
       "Rate       1 232048.12930 232048.12930 128.77529556 1.233877e-09\n",
       "User       1  14477.47559  14477.47559   8.03428670 1.099249e-02\n",
       "Meta       1   3748.57391   3748.57391   2.08027410 1.663884e-01\n",
       "Len        1     38.03622     38.03622   0.02110823 8.860990e-01\n",
       "Win        1     21.24289     21.24289   0.01178876 9.147400e-01\n",
       "Nom        1    328.37631    328.37631   0.18223270 6.745238e-01\n",
       "Residuals 18  32435.30764   1801.96154           NA           NA"
      ]
     },
     "metadata": {},
     "output_type": "display_data"
    },
    {
     "data": {
      "text/html": [
       "<table>\n",
       "<caption>A anova: 4 × 5</caption>\n",
       "<thead>\n",
       "\t<tr><th></th><th scope=col>Df</th><th scope=col>Sum Sq</th><th scope=col>Mean Sq</th><th scope=col>F value</th><th scope=col>Pr(&gt;F)</th></tr>\n",
       "\t<tr><th></th><th scope=col>&lt;int&gt;</th><th scope=col>&lt;dbl&gt;</th><th scope=col>&lt;dbl&gt;</th><th scope=col>&lt;dbl&gt;</th><th scope=col>&lt;dbl&gt;</th></tr>\n",
       "</thead>\n",
       "<tbody>\n",
       "\t<tr><th scope=row>Rate</th><td> 1</td><td>232048.129</td><td>232048.129</td><td>148.463462</td><td>5.492367e-11</td></tr>\n",
       "\t<tr><th scope=row>User</th><td> 1</td><td> 14477.476</td><td> 14477.476</td><td>  9.262631</td><td>6.175760e-03</td></tr>\n",
       "\t<tr><th scope=row>Meta</th><td> 1</td><td>  3748.574</td><td>  3748.574</td><td>  2.398323</td><td>1.364049e-01</td></tr>\n",
       "\t<tr><th scope=row>Residuals</th><td>21</td><td> 32822.963</td><td>  1562.998</td><td>        NA</td><td>          NA</td></tr>\n",
       "</tbody>\n",
       "</table>\n"
      ],
      "text/latex": [
       "A anova: 4 × 5\n",
       "\\begin{tabular}{r|lllll}\n",
       "  & Df & Sum Sq & Mean Sq & F value & Pr(>F)\\\\\n",
       "  & <int> & <dbl> & <dbl> & <dbl> & <dbl>\\\\\n",
       "\\hline\n",
       "\tRate &  1 & 232048.129 & 232048.129 & 148.463462 & 5.492367e-11\\\\\n",
       "\tUser &  1 &  14477.476 &  14477.476 &   9.262631 & 6.175760e-03\\\\\n",
       "\tMeta &  1 &   3748.574 &   3748.574 &   2.398323 & 1.364049e-01\\\\\n",
       "\tResiduals & 21 &  32822.963 &   1562.998 &         NA &           NA\\\\\n",
       "\\end{tabular}\n"
      ],
      "text/markdown": [
       "\n",
       "A anova: 4 × 5\n",
       "\n",
       "| <!--/--> | Df &lt;int&gt; | Sum Sq &lt;dbl&gt; | Mean Sq &lt;dbl&gt; | F value &lt;dbl&gt; | Pr(&gt;F) &lt;dbl&gt; |\n",
       "|---|---|---|---|---|---|\n",
       "| Rate |  1 | 232048.129 | 232048.129 | 148.463462 | 5.492367e-11 |\n",
       "| User |  1 |  14477.476 |  14477.476 |   9.262631 | 6.175760e-03 |\n",
       "| Meta |  1 |   3748.574 |   3748.574 |   2.398323 | 1.364049e-01 |\n",
       "| Residuals | 21 |  32822.963 |   1562.998 |         NA |           NA |\n",
       "\n"
      ],
      "text/plain": [
       "          Df Sum Sq     Mean Sq    F value    Pr(>F)      \n",
       "Rate       1 232048.129 232048.129 148.463462 5.492367e-11\n",
       "User       1  14477.476  14477.476   9.262631 6.175760e-03\n",
       "Meta       1   3748.574   3748.574   2.398323 1.364049e-01\n",
       "Residuals 21  32822.963   1562.998         NA           NA"
      ]
     },
     "metadata": {},
     "output_type": "display_data"
    }
   ],
   "source": [
    "anova(lmBoxMulti)\n",
    "anova(lmRateUserMeta)"
   ]
  },
  {
   "cell_type": "markdown",
   "metadata": {},
   "source": [
    "### We can also use these values to calculate our Regression Standard Error (S)"
   ]
  },
  {
   "cell_type": "code",
   "execution_count": 262,
   "metadata": {},
   "outputs": [
    {
     "data": {
      "text/html": [
       "23.3508309469321"
      ],
      "text/latex": [
       "23.3508309469321"
      ],
      "text/markdown": [
       "23.3508309469321"
      ],
      "text/plain": [
       "[1] 23.35083"
      ]
     },
     "metadata": {},
     "output_type": "display_data"
    }
   ],
   "source": [
    "# Formula for F-Statistic\n",
    "MSR <- sum(anova(lmBoxMulti)$'Mean Sq')/6 # Variation between groups\n",
    "MSE <- 1801.96154 # Variation within groups \n",
    "MSR/MSE"
   ]
  },
  {
   "cell_type": "markdown",
   "metadata": {},
   "source": [
    "### ANOVA and Regression are actually mathamatically very similar under the hood"
   ]
  },
  {
   "cell_type": "code",
   "execution_count": 344,
   "metadata": {},
   "outputs": [
    {
     "name": "stdout",
     "output_type": "stream",
     "text": [
      "Deviance: 32435.31 . Also Deviance can be calculated using:  32435.31 \n",
      "[1] \"Mean Sq is the Square Root of S:\"\n",
      "Full Model S:  42.44952 \n",
      "Partial Model S:  39.53477"
     ]
    }
   ],
   "source": [
    "# Handy ways to extract the residual sum of squares for anova.\n",
    "cat(\"Deviance:\",sum(lmBoxMulti$residuals^2),\n",
    "    \". Also Deviance can be calculated using: \", deviance(lmBoxMulti), '\\n')\n",
    "\n",
    "print(\"Mean Sq is the Square Root of S:\")\n",
    "cat(\"Full Model S: \", sqrt(1801.96154), '\\n')\n",
    "cat(\"Partial Model S: \", sqrt(1562.998))"
   ]
  },
  {
   "cell_type": "code",
   "execution_count": null,
   "metadata": {},
   "outputs": [],
   "source": []
  }
 ],
 "metadata": {
  "kernelspec": {
   "display_name": "R",
   "language": "R",
   "name": "ir"
  },
  "language_info": {
   "codemirror_mode": "r",
   "file_extension": ".r",
   "mimetype": "text/x-r-source",
   "name": "R",
   "pygments_lexer": "r",
   "version": "3.6.2"
  }
 },
 "nbformat": 4,
 "nbformat_minor": 4
}
