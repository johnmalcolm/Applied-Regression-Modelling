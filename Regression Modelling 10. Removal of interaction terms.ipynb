{
 "cells": [
  {
   "cell_type": "markdown",
   "metadata": {},
   "source": [
    "# Regression Modelling 10\n",
    "## Removal of interaction terms"
   ]
  },
  {
   "cell_type": "code",
   "execution_count": 6,
   "metadata": {},
   "outputs": [
    {
     "name": "stderr",
     "output_type": "stream",
     "text": [
      "Updating HTML index of packages in '.Library'\n",
      "Making 'packages.html' ... done\n",
      "Updating HTML index of packages in '.Library'\n",
      "Making 'packages.html' ... done\n",
      "Updating HTML index of packages in '.Library'\n",
      "Making 'packages.html' ... done\n"
     ]
    }
   ],
   "source": [
    "install.packages(\"tidyverse\")\n",
    "install.packages(\"gridExtra\")\n",
    "install.packages(\"nortest\")\n",
    "\n",
    "require(tidyverse)\n",
    "require(gridExtra)\n",
    "require(\"nortest\")\n",
    "\n",
    "homes <- read.table(url(\"http://jupyter-regressions.s3.eu-west-1.amazonaws.com/homes5.csv\"), \n",
    "                           sep=\",\", header = T, stringsAsFactors = F)"
   ]
  },
  {
   "cell_type": "code",
   "execution_count": 7,
   "metadata": {},
   "outputs": [],
   "source": [
    "options(repr.plot.width=15, repr.plot.height=10)\n",
    "theme <- theme(\n",
    "        axis.text=element_text(size = rel(2)),\n",
    "        axis.title=element_text(size = rel(2)),\n",
    "        plot.title=element_text(size = rel(3))\n",
    "    )\n",
    "points <- geom_point(size=3)"
   ]
  },
  {
   "cell_type": "code",
   "execution_count": 8,
   "metadata": {},
   "outputs": [
    {
     "data": {
      "text/html": [
       "<table>\n",
       "<thead><tr><th scope=col>Price</th><th scope=col>Floor</th><th scope=col>School</th><th scope=col>DHa</th></tr></thead>\n",
       "<tbody>\n",
       "\t<tr><td>359.9  </td><td>2.200  </td><td>Redwood</td><td>0      </td></tr>\n",
       "\t<tr><td>249.7  </td><td>1.868  </td><td>Redwood</td><td>0      </td></tr>\n",
       "\t<tr><td>265.0  </td><td>1.875  </td><td>Redwood</td><td>0      </td></tr>\n",
       "\t<tr><td>349.0  </td><td>2.000  </td><td>Redwood</td><td>0      </td></tr>\n",
       "\t<tr><td>319.0  </td><td>1.855  </td><td>Harris </td><td>1      </td></tr>\n",
       "\t<tr><td>339.0  </td><td>1.928  </td><td>Redwood</td><td>0      </td></tr>\n",
       "</tbody>\n",
       "</table>\n"
      ],
      "text/latex": [
       "\\begin{tabular}{r|llll}\n",
       " Price & Floor & School & DHa\\\\\n",
       "\\hline\n",
       "\t 359.9   & 2.200   & Redwood & 0      \\\\\n",
       "\t 249.7   & 1.868   & Redwood & 0      \\\\\n",
       "\t 265.0   & 1.875   & Redwood & 0      \\\\\n",
       "\t 349.0   & 2.000   & Redwood & 0      \\\\\n",
       "\t 319.0   & 1.855   & Harris  & 1      \\\\\n",
       "\t 339.0   & 1.928   & Redwood & 0      \\\\\n",
       "\\end{tabular}\n"
      ],
      "text/markdown": [
       "\n",
       "| Price | Floor | School | DHa |\n",
       "|---|---|---|---|\n",
       "| 359.9   | 2.200   | Redwood | 0       |\n",
       "| 249.7   | 1.868   | Redwood | 0       |\n",
       "| 265.0   | 1.875   | Redwood | 0       |\n",
       "| 349.0   | 2.000   | Redwood | 0       |\n",
       "| 319.0   | 1.855   | Harris  | 1       |\n",
       "| 339.0   | 1.928   | Redwood | 0       |\n",
       "\n"
      ],
      "text/plain": [
       "  Price Floor School  DHa\n",
       "1 359.9 2.200 Redwood 0  \n",
       "2 249.7 1.868 Redwood 0  \n",
       "3 265.0 1.875 Redwood 0  \n",
       "4 349.0 2.000 Redwood 0  \n",
       "5 319.0 1.855 Harris  1  \n",
       "6 339.0 1.928 Redwood 0  "
      ]
     },
     "metadata": {},
     "output_type": "display_data"
    }
   ],
   "source": [
    "head(homes)"
   ]
  },
  {
   "cell_type": "code",
   "execution_count": 9,
   "metadata": {},
   "outputs": [
    {
     "data": {
      "image/png": "[encoded data removed]",
      "text/plain": [
       "plot without title"
      ]
     },
     "metadata": {},
     "output_type": "display_data"
    }
   ],
   "source": [
    "plot(Price~Floor, homes)"
   ]
  },
  {
   "cell_type": "code",
   "execution_count": 10,
   "metadata": {},
   "outputs": [
    {
     "ename": "ERROR",
     "evalue": "Error in ggplot(modHomes, aes(x = Floor, y = Price, group = DHa, fill = DHa, : object 'modHomes' not found\n",
     "output_type": "error",
     "traceback": [
      "Error in ggplot(modHomes, aes(x = Floor, y = Price, group = DHa, fill = DHa, : object 'modHomes' not found\nTraceback:\n",
      "1. ggplot(modHomes, aes(x = Floor, y = Price, group = DHa, fill = DHa, \n .     colour = DHa))"
     ]
    }
   ],
   "source": [
    "lmHomes <- lm(Price~DHa+Floor+DHa*Floor, homes)\n",
    "\n",
    "predicted1 = predict(lmHomes, interval = \"confidence\")\n",
    "fortifyHomes1 = fortify(lmHomes)\n",
    "modHomes1 <- cbind(fortifyHomes1, predicted1)\n",
    "    \n",
    "ggplot(modHomes, aes(x=Floor, y=Price, group=DHa, fill=DHa, colour=DHa)) + \n",
    "    stat_smooth(aes(x=Floor, y=.fitted), se=FALSE) + \n",
    "    theme + points"
   ]
  },
  {
   "cell_type": "code",
   "execution_count": null,
   "metadata": {},
   "outputs": [],
   "source": [
    "summary(lmHomes)"
   ]
  },
  {
   "cell_type": "markdown",
   "metadata": {},
   "source": [
    "**A P-Value of 0.91 on the Dha:Floor term confirms the visual interpretations that the slopes are the same for both neighbourhoods, therefor we can remove the interaction term.**"
   ]
  },
  {
   "cell_type": "code",
   "execution_count": null,
   "metadata": {},
   "outputs": [],
   "source": [
    "lmHomes2 <- lm(Price~DHa+Floor+DHa, homes)\n",
    "\n",
    "predicted2 = predict(lmHomes2, interval = \"confidence\")\n",
    "fortifyHomes2 = fortify(lmHomes2)\n",
    "modHomes2 <- cbind(fortifyHomes2, predicted2)\n",
    "    \n",
    "ggplot(modHomes2, aes(x=Floor, y=Price, group=DHa, fill=DHa, colour=DHa)) + \n",
    "    stat_smooth(aes(x=Floor, y=.fitted), se=FALSE) + \n",
    "    theme + points"
   ]
  },
  {
   "cell_type": "code",
   "execution_count": null,
   "metadata": {},
   "outputs": [],
   "source": [
    "summary(lmHomes2)"
   ]
  },
  {
   "cell_type": "code",
   "execution_count": null,
   "metadata": {},
   "outputs": [],
   "source": [
    "plot(lmHomes2)"
   ]
  },
  {
   "cell_type": "code",
   "execution_count": null,
   "metadata": {},
   "outputs": [],
   "source": []
  }
 ],
 "metadata": {
  "kernelspec": {
   "display_name": "R",
   "language": "R",
   "name": "ir"
  },
  "language_info": {
   "codemirror_mode": "r",
   "file_extension": ".r",
   "mimetype": "text/x-r-source",
   "name": "R",
   "pygments_lexer": "r",
   "version": "3.6.1"
  }
 },
 "nbformat": 4,
 "nbformat_minor": 4
}
